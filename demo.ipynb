{
 "cells": [
  {
   "cell_type": "code",
   "execution_count": 1,
   "id": "4d7eb1e3",
   "metadata": {},
   "outputs": [
    {
     "name": "stderr",
     "output_type": "stream",
     "text": [
      "/home/jorisguerin/Projects/neural-network-monitoring-benchmark/monitors.py:164: SyntaxWarning: \"is not\" with a literal. Did you mean \"!=\"?\n",
      "  if self.n_clusters_type is not \"auto\":\n"
     ]
    }
   ],
   "source": [
    "from dataset import Dataset\n",
    "from feature_extractor import FeatureExtractor\n",
    "from monitors import GaussianMixtureMonitor\n",
    "from evaluation import Evaluator\n",
    "\n",
    "import torch"
   ]
  },
  {
   "cell_type": "code",
   "execution_count": 13,
   "id": "7b60f704",
   "metadata": {},
   "outputs": [],
   "source": [
    "batch_size = 100\n",
    "device_name = 'cuda:0' if torch.cuda.is_available() else 'cpu'"
   ]
  },
  {
   "cell_type": "code",
   "execution_count": 14,
   "id": "19146d6f",
   "metadata": {},
   "outputs": [],
   "source": [
    "id_dataset = \"cifar10\"\n",
    "ood_dataset = \"cifar10\"\n",
    "\n",
    "model = \"densenet\"\n",
    "layer = 98\n",
    "\n",
    "atk = \"fgsm\""
   ]
  },
  {
   "cell_type": "code",
   "execution_count": 15,
   "id": "5626972e",
   "metadata": {},
   "outputs": [
    {
     "name": "stdout",
     "output_type": "stream",
     "text": [
      "Files already downloaded and verified\n",
      "Files already downloaded and verified\n",
      "Files already downloaded and verified\n"
     ]
    }
   ],
   "source": [
    "dataset_train = Dataset(id_dataset, \"train\", model, batch_size=batch_size)\n",
    "dataset_test = Dataset(id_dataset, \"test\", model, batch_size=batch_size)\n",
    "dataset_ood = Dataset(ood_dataset, \"test\", model, None, atk, batch_size=batch_size)"
   ]
  },
  {
   "cell_type": "code",
   "execution_count": 16,
   "id": "aa3fad85",
   "metadata": {},
   "outputs": [],
   "source": [
    "feature_extractor = FeatureExtractor(model, id_dataset, [layer], device_name)"
   ]
  },
  {
   "cell_type": "code",
   "execution_count": 17,
   "id": "4e609d94",
   "metadata": {},
   "outputs": [
    {
     "name": "stdout",
     "output_type": "stream",
     "text": [
      "Extracting layers: 'relu'\n"
     ]
    },
    {
     "name": "stderr",
     "output_type": "stream",
     "text": [
      "100%|█████████████████████████████████████████| 500/500 [15:33<00:00,  1.87s/it]\n"
     ]
    },
    {
     "name": "stdout",
     "output_type": "stream",
     "text": [
      "Extracting layers: 'relu'\n"
     ]
    },
    {
     "name": "stderr",
     "output_type": "stream",
     "text": [
      "100%|█████████████████████████████████████████| 100/100 [03:11<00:00,  1.91s/it]\n"
     ]
    },
    {
     "name": "stdout",
     "output_type": "stream",
     "text": [
      "Extracting layers: 'relu'\n"
     ]
    },
    {
     "name": "stderr",
     "output_type": "stream",
     "text": [
      "100%|█████████████████████████████████████████| 100/100 [06:52<00:00,  4.13s/it]\n"
     ]
    }
   ],
   "source": [
    "features_train, logits_train, softmax_train, \\\n",
    "    pred_train, lab_train = feature_extractor.get_features(dataset_train)\n",
    "features_test, logits_test, softmax_test, \\\n",
    "    pred_test, lab_test = feature_extractor.get_features(dataset_test)\n",
    "features_ood, logits_ood, softmax_ood, \\\n",
    "    pred_ood, lab_ood = feature_extractor.get_features(dataset_ood)"
   ]
  },
  {
   "cell_type": "code",
   "execution_count": 18,
   "id": "87fcc2ce",
   "metadata": {},
   "outputs": [],
   "source": [
    "eval_oms = Evaluator(\"oms\", is_novelty=(id_dataset != ood_dataset))\n",
    "eval_oms.fit_ground_truth(lab_test, lab_ood, pred_test, pred_ood)"
   ]
  },
  {
   "cell_type": "code",
   "execution_count": 19,
   "id": "82bb9b78",
   "metadata": {},
   "outputs": [],
   "source": [
    "monitor = GaussianMixtureMonitor(id_dataset, model, layer, n_components=5,\n",
    "                                                         constraint=\"diag\", is_cv=True)\n",
    "monitor.fit(features_train[0], pred_train, lab_train, save=True)\n",
    "\n",
    "scores_test = monitor.predict(features_test[0], pred_test)\n",
    "scores_ood = monitor.predict(features_ood[0], pred_ood)\n",
    "\n",
    "aupr = eval_oms.get_average_precision(-scores_test, -scores_ood)\n",
    "auroc = eval_oms.get_auroc(-scores_test, -scores_ood)\n",
    "tnr95tpr = eval_oms.get_tnr_frac_tpr_oms(-scores_test, -scores_ood, frac=0.95)"
   ]
  },
  {
   "cell_type": "code",
   "execution_count": 20,
   "id": "fc903236",
   "metadata": {},
   "outputs": [
    {
     "name": "stdout",
     "output_type": "stream",
     "text": [
      "0.6034687443705132 0.8397250602508426 0.5527787366240939\n"
     ]
    }
   ],
   "source": [
    "print(aupr, auroc, tnr95tpr)"
   ]
  },
  {
   "cell_type": "code",
   "execution_count": null,
   "id": "faedb40f",
   "metadata": {},
   "outputs": [],
   "source": []
  }
 ],
 "metadata": {
  "kernelspec": {
   "display_name": "Python 3 (ipykernel)",
   "language": "python",
   "name": "python3"
  },
  "language_info": {
   "codemirror_mode": {
    "name": "ipython",
    "version": 3
   },
   "file_extension": ".py",
   "mimetype": "text/x-python",
   "name": "python",
   "nbconvert_exporter": "python",
   "pygments_lexer": "ipython3",
   "version": "3.10.4"
  }
 },
 "nbformat": 4,
 "nbformat_minor": 5
}
